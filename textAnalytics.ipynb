{
 "cells": [
  {
   "cell_type": "code",
   "execution_count": 22,
   "id": "f55422de",
   "metadata": {},
   "outputs": [],
   "source": [
    "import pandas as pd, numpy as np\n",
    "import seaborn as sns\n",
    "import matplotlib.pyplot as plt\n",
    "\n",
    "import nltk\n",
    "from nltk.corpus import stopwords\n",
    "from textblob import TextBlob\n",
    "\n",
    "from wordcloud import WordCloud \n",
    "from itertools import chain"
   ]
  },
  {
   "cell_type": "code",
   "execution_count": 23,
   "id": "e60ea8b4",
   "metadata": {},
   "outputs": [
    {
     "name": "stderr",
     "output_type": "stream",
     "text": [
      "[nltk_data] Downloading package vader_lexicon to\n",
      "[nltk_data]     C:\\Users\\lohwa\\AppData\\Roaming\\nltk_data...\n",
      "[nltk_data]   Package vader_lexicon is already up-to-date!\n",
      "[nltk_data] Downloading package averaged_perceptron_tagger to\n",
      "[nltk_data]     C:\\Users\\lohwa\\AppData\\Roaming\\nltk_data...\n",
      "[nltk_data]   Package averaged_perceptron_tagger is already up-to-\n",
      "[nltk_data]       date!\n"
     ]
    },
    {
     "data": {
      "text/plain": [
       "True"
      ]
     },
     "execution_count": 23,
     "metadata": {},
     "output_type": "execute_result"
    }
   ],
   "source": [
    "plt.style.use('ggplot')\n",
    "nltk.download('vader_lexicon')\n",
    "nltk.download('averaged_perceptron_tagger')"
   ]
  },
  {
   "cell_type": "markdown",
   "id": "feb32c59",
   "metadata": {},
   "source": [
    "# Exploratory Data Analysis"
   ]
  },
  {
   "cell_type": "code",
   "execution_count": 24,
   "id": "9dc438ee",
   "metadata": {},
   "outputs": [
    {
     "data": {
      "text/html": [
       "<div>\n",
       "<style scoped>\n",
       "    .dataframe tbody tr th:only-of-type {\n",
       "        vertical-align: middle;\n",
       "    }\n",
       "\n",
       "    .dataframe tbody tr th {\n",
       "        vertical-align: top;\n",
       "    }\n",
       "\n",
       "    .dataframe thead th {\n",
       "        text-align: right;\n",
       "    }\n",
       "</style>\n",
       "<table border=\"1\" class=\"dataframe\">\n",
       "  <thead>\n",
       "    <tr style=\"text-align: right;\">\n",
       "      <th></th>\n",
       "      <th>Id</th>\n",
       "      <th>ProductId</th>\n",
       "      <th>UserId</th>\n",
       "      <th>ProfileName</th>\n",
       "      <th>HelpfulnessNumerator</th>\n",
       "      <th>HelpfulnessDenominator</th>\n",
       "      <th>Score</th>\n",
       "      <th>Time</th>\n",
       "      <th>Summary</th>\n",
       "      <th>Text</th>\n",
       "    </tr>\n",
       "  </thead>\n",
       "  <tbody>\n",
       "    <tr>\n",
       "      <th>0</th>\n",
       "      <td>1</td>\n",
       "      <td>B001E4KFG0</td>\n",
       "      <td>A3SGXH7AUHU8GW</td>\n",
       "      <td>delmartian</td>\n",
       "      <td>1</td>\n",
       "      <td>1</td>\n",
       "      <td>5</td>\n",
       "      <td>1303862400</td>\n",
       "      <td>Good Quality Dog Food</td>\n",
       "      <td>I have bought several of the Vitality canned d...</td>\n",
       "    </tr>\n",
       "    <tr>\n",
       "      <th>1</th>\n",
       "      <td>2</td>\n",
       "      <td>B00813GRG4</td>\n",
       "      <td>A1D87F6ZCVE5NK</td>\n",
       "      <td>dll pa</td>\n",
       "      <td>0</td>\n",
       "      <td>0</td>\n",
       "      <td>1</td>\n",
       "      <td>1346976000</td>\n",
       "      <td>Not as Advertised</td>\n",
       "      <td>Product arrived labeled as Jumbo Salted Peanut...</td>\n",
       "    </tr>\n",
       "    <tr>\n",
       "      <th>2</th>\n",
       "      <td>3</td>\n",
       "      <td>B000LQOCH0</td>\n",
       "      <td>ABXLMWJIXXAIN</td>\n",
       "      <td>Natalia Corres \"Natalia Corres\"</td>\n",
       "      <td>1</td>\n",
       "      <td>1</td>\n",
       "      <td>4</td>\n",
       "      <td>1219017600</td>\n",
       "      <td>\"Delight\" says it all</td>\n",
       "      <td>This is a confection that has been around a fe...</td>\n",
       "    </tr>\n",
       "    <tr>\n",
       "      <th>3</th>\n",
       "      <td>4</td>\n",
       "      <td>B000UA0QIQ</td>\n",
       "      <td>A395BORC6FGVXV</td>\n",
       "      <td>Karl</td>\n",
       "      <td>3</td>\n",
       "      <td>3</td>\n",
       "      <td>2</td>\n",
       "      <td>1307923200</td>\n",
       "      <td>Cough Medicine</td>\n",
       "      <td>If you are looking for the secret ingredient i...</td>\n",
       "    </tr>\n",
       "    <tr>\n",
       "      <th>4</th>\n",
       "      <td>5</td>\n",
       "      <td>B006K2ZZ7K</td>\n",
       "      <td>A1UQRSCLF8GW1T</td>\n",
       "      <td>Michael D. Bigham \"M. Wassir\"</td>\n",
       "      <td>0</td>\n",
       "      <td>0</td>\n",
       "      <td>5</td>\n",
       "      <td>1350777600</td>\n",
       "      <td>Great taffy</td>\n",
       "      <td>Great taffy at a great price.  There was a wid...</td>\n",
       "    </tr>\n",
       "  </tbody>\n",
       "</table>\n",
       "</div>"
      ],
      "text/plain": [
       "   Id   ProductId          UserId                      ProfileName  \\\n",
       "0   1  B001E4KFG0  A3SGXH7AUHU8GW                       delmartian   \n",
       "1   2  B00813GRG4  A1D87F6ZCVE5NK                           dll pa   \n",
       "2   3  B000LQOCH0   ABXLMWJIXXAIN  Natalia Corres \"Natalia Corres\"   \n",
       "3   4  B000UA0QIQ  A395BORC6FGVXV                             Karl   \n",
       "4   5  B006K2ZZ7K  A1UQRSCLF8GW1T    Michael D. Bigham \"M. Wassir\"   \n",
       "\n",
       "   HelpfulnessNumerator  HelpfulnessDenominator  Score        Time  \\\n",
       "0                     1                       1      5  1303862400   \n",
       "1                     0                       0      1  1346976000   \n",
       "2                     1                       1      4  1219017600   \n",
       "3                     3                       3      2  1307923200   \n",
       "4                     0                       0      5  1350777600   \n",
       "\n",
       "                 Summary                                               Text  \n",
       "0  Good Quality Dog Food  I have bought several of the Vitality canned d...  \n",
       "1      Not as Advertised  Product arrived labeled as Jumbo Salted Peanut...  \n",
       "2  \"Delight\" says it all  This is a confection that has been around a fe...  \n",
       "3         Cough Medicine  If you are looking for the secret ingredient i...  \n",
       "4            Great taffy  Great taffy at a great price.  There was a wid...  "
      ]
     },
     "execution_count": 24,
     "metadata": {},
     "output_type": "execute_result"
    }
   ],
   "source": [
    "df = pd.read_csv('Amazon Reviews.csv')\n",
    "df.head()"
   ]
  },
  {
   "cell_type": "code",
   "execution_count": 25,
   "id": "f1b91e7f",
   "metadata": {},
   "outputs": [
    {
     "data": {
      "image/png": "[encoded data removed]",
      "text/plain": [
       "<Figure size 720x360 with 1 Axes>"
      ]
     },
     "metadata": {},
     "output_type": "display_data"
    }
   ],
   "source": [
    "ax = df['Score'].value_counts().sort_index().plot(kind = 'bar', \n",
    "                                            title = 'Count of Reviews by Stars', \n",
    "                                            figsize = (10,5))\n",
    "ax.set_xlabel('Review Stars')\n",
    "plt.show()"
   ]
  },
  {
   "cell_type": "markdown",
   "id": "493f061d",
   "metadata": {},
   "source": [
    "# Textblob approach"
   ]
  },
  {
   "cell_type": "code",
   "execution_count": 26,
   "id": "96a79790",
   "metadata": {},
   "outputs": [],
   "source": [
    "# use textblob to calculate sentiment analysis \n",
    "df['Text'] = df['Text'].astype(str)\n",
    "pol = lambda x: TextBlob(x).sentiment.polarity\n",
    "df['Polarity'] = df['Text'].apply(pol)"
   ]
  },
  {
   "cell_type": "markdown",
   "id": "f73f81a7",
   "metadata": {},
   "source": [
    "Polarity lies within -1 and 1, where 1 represents the positive statement and -1 represents the negative statement."
   ]
  },
  {
   "cell_type": "code",
   "execution_count": 27,
   "id": "f4205c0c",
   "metadata": {},
   "outputs": [],
   "source": [
    "df['Sentiment_Type']=''\n",
    "df.loc[df.Polarity>0,'Sentiment_Type']='POSITIVE'\n",
    "df.loc[df.Polarity==0,'Sentiment_Type']='NEUTRAL'\n",
    "df.loc[df.Polarity<0,'Sentiment_Type']='NEGATIVE'"
   ]
  },
  {
   "cell_type": "code",
   "execution_count": 28,
   "id": "7c9bf040",
   "metadata": {},
   "outputs": [
    {
     "data": {
      "text/html": [
       "<div>\n",
       "<style scoped>\n",
       "    .dataframe tbody tr th:only-of-type {\n",
       "        vertical-align: middle;\n",
       "    }\n",
       "\n",
       "    .dataframe tbody tr th {\n",
       "        vertical-align: top;\n",
       "    }\n",
       "\n",
       "    .dataframe thead th {\n",
       "        text-align: right;\n",
       "    }\n",
       "</style>\n",
       "<table border=\"1\" class=\"dataframe\">\n",
       "  <thead>\n",
       "    <tr style=\"text-align: right;\">\n",
       "      <th></th>\n",
       "      <th>Id</th>\n",
       "      <th>ProductId</th>\n",
       "      <th>UserId</th>\n",
       "      <th>ProfileName</th>\n",
       "      <th>HelpfulnessNumerator</th>\n",
       "      <th>HelpfulnessDenominator</th>\n",
       "      <th>Score</th>\n",
       "      <th>Time</th>\n",
       "      <th>Summary</th>\n",
       "      <th>Text</th>\n",
       "      <th>Polarity</th>\n",
       "      <th>Sentiment_Type</th>\n",
       "    </tr>\n",
       "  </thead>\n",
       "  <tbody>\n",
       "    <tr>\n",
       "      <th>0</th>\n",
       "      <td>1</td>\n",
       "      <td>B001E4KFG0</td>\n",
       "      <td>A3SGXH7AUHU8GW</td>\n",
       "      <td>delmartian</td>\n",
       "      <td>1</td>\n",
       "      <td>1</td>\n",
       "      <td>5</td>\n",
       "      <td>1303862400</td>\n",
       "      <td>Good Quality Dog Food</td>\n",
       "      <td>I have bought several of the Vitality canned d...</td>\n",
       "      <td>0.450000</td>\n",
       "      <td>POSITIVE</td>\n",
       "    </tr>\n",
       "    <tr>\n",
       "      <th>1</th>\n",
       "      <td>2</td>\n",
       "      <td>B00813GRG4</td>\n",
       "      <td>A1D87F6ZCVE5NK</td>\n",
       "      <td>dll pa</td>\n",
       "      <td>0</td>\n",
       "      <td>0</td>\n",
       "      <td>1</td>\n",
       "      <td>1346976000</td>\n",
       "      <td>Not as Advertised</td>\n",
       "      <td>Product arrived labeled as Jumbo Salted Peanut...</td>\n",
       "      <td>-0.033333</td>\n",
       "      <td>NEGATIVE</td>\n",
       "    </tr>\n",
       "    <tr>\n",
       "      <th>2</th>\n",
       "      <td>3</td>\n",
       "      <td>B000LQOCH0</td>\n",
       "      <td>ABXLMWJIXXAIN</td>\n",
       "      <td>Natalia Corres \"Natalia Corres\"</td>\n",
       "      <td>1</td>\n",
       "      <td>1</td>\n",
       "      <td>4</td>\n",
       "      <td>1219017600</td>\n",
       "      <td>\"Delight\" says it all</td>\n",
       "      <td>This is a confection that has been around a fe...</td>\n",
       "      <td>0.133571</td>\n",
       "      <td>POSITIVE</td>\n",
       "    </tr>\n",
       "    <tr>\n",
       "      <th>3</th>\n",
       "      <td>4</td>\n",
       "      <td>B000UA0QIQ</td>\n",
       "      <td>A395BORC6FGVXV</td>\n",
       "      <td>Karl</td>\n",
       "      <td>3</td>\n",
       "      <td>3</td>\n",
       "      <td>2</td>\n",
       "      <td>1307923200</td>\n",
       "      <td>Cough Medicine</td>\n",
       "      <td>If you are looking for the secret ingredient i...</td>\n",
       "      <td>0.166667</td>\n",
       "      <td>POSITIVE</td>\n",
       "    </tr>\n",
       "    <tr>\n",
       "      <th>4</th>\n",
       "      <td>5</td>\n",
       "      <td>B006K2ZZ7K</td>\n",
       "      <td>A1UQRSCLF8GW1T</td>\n",
       "      <td>Michael D. Bigham \"M. Wassir\"</td>\n",
       "      <td>0</td>\n",
       "      <td>0</td>\n",
       "      <td>5</td>\n",
       "      <td>1350777600</td>\n",
       "      <td>Great taffy</td>\n",
       "      <td>Great taffy at a great price.  There was a wid...</td>\n",
       "      <td>0.483333</td>\n",
       "      <td>POSITIVE</td>\n",
       "    </tr>\n",
       "  </tbody>\n",
       "</table>\n",
       "</div>"
      ],
      "text/plain": [
       "   Id   ProductId          UserId                      ProfileName  \\\n",
       "0   1  B001E4KFG0  A3SGXH7AUHU8GW                       delmartian   \n",
       "1   2  B00813GRG4  A1D87F6ZCVE5NK                           dll pa   \n",
       "2   3  B000LQOCH0   ABXLMWJIXXAIN  Natalia Corres \"Natalia Corres\"   \n",
       "3   4  B000UA0QIQ  A395BORC6FGVXV                             Karl   \n",
       "4   5  B006K2ZZ7K  A1UQRSCLF8GW1T    Michael D. Bigham \"M. Wassir\"   \n",
       "\n",
       "   HelpfulnessNumerator  HelpfulnessDenominator  Score        Time  \\\n",
       "0                     1                       1      5  1303862400   \n",
       "1                     0                       0      1  1346976000   \n",
       "2                     1                       1      4  1219017600   \n",
       "3                     3                       3      2  1307923200   \n",
       "4                     0                       0      5  1350777600   \n",
       "\n",
       "                 Summary                                               Text  \\\n",
       "0  Good Quality Dog Food  I have bought several of the Vitality canned d...   \n",
       "1      Not as Advertised  Product arrived labeled as Jumbo Salted Peanut...   \n",
       "2  \"Delight\" says it all  This is a confection that has been around a fe...   \n",
       "3         Cough Medicine  If you are looking for the secret ingredient i...   \n",
       "4            Great taffy  Great taffy at a great price.  There was a wid...   \n",
       "\n",
       "   Polarity Sentiment_Type  \n",
       "0  0.450000       POSITIVE  \n",
       "1 -0.033333       NEGATIVE  \n",
       "2  0.133571       POSITIVE  \n",
       "3  0.166667       POSITIVE  \n",
       "4  0.483333       POSITIVE  "
      ]
     },
     "execution_count": 28,
     "metadata": {},
     "output_type": "execute_result"
    }
   ],
   "source": [
    "df.head()"
   ]
  },
  {
   "cell_type": "code",
   "execution_count": 29,
   "id": "abf7bd91",
   "metadata": {},
   "outputs": [
    {
     "data": {
      "text/plain": [
       "<AxesSubplot:xlabel='Polarity', ylabel='Count'>"
      ]
     },
     "execution_count": 29,
     "metadata": {},
     "output_type": "execute_result"
    },
    {
     "data": {
      "image/png": "[encoded data removed]",
      "text/plain": [
       "<Figure size 432x288 with 1 Axes>"
      ]
     },
     "metadata": {},
     "output_type": "display_data"
    }
   ],
   "source": [
    "# plot histogram on polarity scores\n",
    "sns.histplot(data = df['Polarity'])"
   ]
  },
  {
   "cell_type": "markdown",
   "id": "a6fe6678",
   "metadata": {},
   "source": [
    "Subjectivity is used to determine whether a sentence expresses an opinion or not. "
   ]
  },
  {
   "cell_type": "code",
   "execution_count": 30,
   "id": "07a42b8c",
   "metadata": {},
   "outputs": [],
   "source": [
    "sub = lambda x: TextBlob(x).sentiment.subjectivity\n",
    "df['Subjectivity'] = df['Text'].apply(sub)"
   ]
  },
  {
   "cell_type": "code",
   "execution_count": 31,
   "id": "195e57a6",
   "metadata": {},
   "outputs": [
    {
     "data": {
      "text/plain": [
       "<AxesSubplot:xlabel='Subjectivity', ylabel='Count'>"
      ]
     },
     "execution_count": 31,
     "metadata": {},
     "output_type": "execute_result"
    },
    {
     "data": {
      "image/png": "[encoded data removed]",
      "text/plain": [
       "<Figure size 432x288 with 1 Axes>"
      ]
     },
     "metadata": {},
     "output_type": "display_data"
    }
   ],
   "source": [
    "sns.histplot(data = df['Subjectivity'])"
   ]
  },
  {
   "cell_type": "markdown",
   "id": "0678b4a9",
   "metadata": {},
   "source": [
    "# Word Cloud"
   ]
  },
  {
   "cell_type": "markdown",
   "id": "98b28d0e",
   "metadata": {},
   "source": [
    "We shall create a wordcloud using the TF-IDF (Term Frequency Inverse Document Frequency) matrix instead of using the text directly. Two ways of converting words to meaningful numbers are the 'bag of words' count vectorizer approach, and the TF-IDF vectorizer.\n",
    "\n",
    "Count vectorizer ranks words based on the frequency each word appears in a document, whereas TF-IDF indicates the relative importance of each word in a corpus (i.e., group of documents).\n",
    "\n",
    "A TF-IDF value close to 0 indicates that the term is not important in either the corpus or the document or both. Whereas a larger value indicates that the term is unique for the document or the corpus or both.\n",
    "\n",
    "Corpus TF-IDF values allows us to compare terms to each other across documents. Terms that are in fewer documents have higher scores, whereas terms in all documents have a score of 0. "
   ]
  },
  {
   "cell_type": "code",
   "execution_count": 32,
   "id": "bc7b9e03",
   "metadata": {},
   "outputs": [],
   "source": [
    "stopwords = set(stopwords.words('english'))\n",
    "stopwords.update('br')\n",
    "list_of_text = \" \".join(review for review in df.Text)\n",
    "word_cloud = WordCloud(stopwords = stopwords).generate(list_of_text)"
   ]
  },
  {
   "cell_type": "code",
   "execution_count": 33,
   "id": "ef272cf5",
   "metadata": {},
   "outputs": [
    {
     "data": {
      "image/png": "[encoded data removed]",
      "text/plain": [
       "<Figure size 432x288 with 1 Axes>"
      ]
     },
     "metadata": {},
     "output_type": "display_data"
    }
   ],
   "source": [
    "plt.imshow(word_cloud, interpolation='bilinear')\n",
    "plt.axis(\"off\")\n",
    "plt.show()"
   ]
  },
  {
   "cell_type": "code",
   "execution_count": 34,
   "id": "38bb2da3",
   "metadata": {
    "scrolled": true
   },
   "outputs": [
    {
     "ename": "NameError",
     "evalue": "name 'vectorizer' is not defined",
     "output_type": "error",
     "traceback": [
      "\u001b[1;31m---------------------------------------------------------------------------\u001b[0m",
      "\u001b[1;31mNameError\u001b[0m                                 Traceback (most recent call last)",
      "\u001b[1;32m~\\AppData\\Local\\Temp/ipykernel_22488/3033063643.py\u001b[0m in \u001b[0;36m<module>\u001b[1;34m\u001b[0m\n\u001b[0;32m      3\u001b[0m \u001b[1;32mfrom\u001b[0m \u001b[0msklearn\u001b[0m\u001b[1;33m.\u001b[0m\u001b[0mfeature_extraction\u001b[0m\u001b[1;33m.\u001b[0m\u001b[0mtext\u001b[0m \u001b[1;32mimport\u001b[0m \u001b[0mTfidfVectorizer\u001b[0m\u001b[1;33m\u001b[0m\u001b[1;33m\u001b[0m\u001b[0m\n\u001b[0;32m      4\u001b[0m \u001b[1;33m\u001b[0m\u001b[0m\n\u001b[1;32m----> 5\u001b[1;33m \u001b[0mvecs\u001b[0m \u001b[1;33m=\u001b[0m \u001b[0mvectorizer\u001b[0m\u001b[1;33m.\u001b[0m\u001b[0mfit_transform\u001b[0m\u001b[1;33m(\u001b[0m\u001b[0mdf\u001b[0m\u001b[1;33m[\u001b[0m\u001b[1;34m'Text'\u001b[0m\u001b[1;33m]\u001b[0m\u001b[1;33m)\u001b[0m\u001b[1;33m\u001b[0m\u001b[1;33m\u001b[0m\u001b[0m\n\u001b[0m\u001b[0;32m      6\u001b[0m \u001b[1;31m# extract names from features\u001b[0m\u001b[1;33m\u001b[0m\u001b[1;33m\u001b[0m\u001b[0m\n\u001b[0;32m      7\u001b[0m \u001b[0mfeature_names\u001b[0m \u001b[1;33m=\u001b[0m \u001b[0mvectorizer\u001b[0m\u001b[1;33m.\u001b[0m\u001b[0mget_feature_names\u001b[0m\u001b[1;33m(\u001b[0m\u001b[1;33m)\u001b[0m\u001b[1;33m\u001b[0m\u001b[1;33m\u001b[0m\u001b[0m\n",
      "\u001b[1;31mNameError\u001b[0m: name 'vectorizer' is not defined"
     ]
    }
   ],
   "source": [
    "# word cloud using TF-IDF Document Term Matrix\n",
    "# first import tfidfVectorizer from scikit-learn library to process text\n",
    "from sklearn.feature_extraction.text import TfidfVectorizer\n",
    "\n",
    "vecs = vectorizer.fit_transform(df['Text'])\n",
    "# extract names from features\n",
    "feature_names = vectorizer.get_feature_names()\n",
    "dense = vecs.todense()\n",
    "lst = dense.tolist()\n",
    "df = pd.DataFrame(lst, columns = feature_names)\n",
    "# get frequencies per term \n",
    "df.T.sum(axis=1)"
   ]
  },
  {
   "cell_type": "code",
   "execution_count": null,
   "id": "1afa6534",
   "metadata": {},
   "outputs": [],
   "source": [
    "Cloud = WordCloud(background_color=\"white\", max_words=50).generate_from_frequencies(df.T.sum(axis=1))\n",
    "plt.imshow(Cloud)"
   ]
  },
  {
   "cell_type": "markdown",
   "id": "787be1af",
   "metadata": {},
   "source": [
    "# LDA Topic Modelling using Gensim"
   ]
  },
  {
   "cell_type": "code",
   "execution_count": null,
   "id": "e5ea06ec",
   "metadata": {
    "scrolled": true
   },
   "outputs": [],
   "source": [
    "!pip install gensim"
   ]
  },
  {
   "cell_type": "code",
   "execution_count": null,
   "id": "22ebeafb",
   "metadata": {
    "scrolled": true
   },
   "outputs": [],
   "source": [
    "!pip install spacy"
   ]
  },
  {
   "cell_type": "code",
   "execution_count": null,
   "id": "e83edadb",
   "metadata": {
    "scrolled": true
   },
   "outputs": [],
   "source": [
    "!python -m spacy download en"
   ]
  },
  {
   "cell_type": "code",
   "execution_count": null,
   "id": "e28de369",
   "metadata": {
    "scrolled": true
   },
   "outputs": [],
   "source": [
    "!pip install pyLDAvis"
   ]
  },
  {
   "cell_type": "code",
   "execution_count": null,
   "id": "6082144f",
   "metadata": {},
   "outputs": [],
   "source": [
    "#gensim\n",
    "import gensim\n",
    "import gensim.corpora as corpora\n",
    "from gensim.utils import simple_preprocess\n",
    "from gensim.models import CoherenceModel\n",
    "\n",
    "#spacy\n",
    "import spacy\n",
    "from nltk.corpus import stopwords\n",
    "stop_words = stopwords.words('english')\n",
    "\n",
    "#vis\n",
    "import pyLDAvis\n",
    "import pyLDAvis.gensim_models\n",
    "\n",
    "#regex\n",
    "import regex as re\n"
   ]
  },
  {
   "cell_type": "code",
   "execution_count": null,
   "id": "3a0f5ebc",
   "metadata": {},
   "outputs": [],
   "source": [
    "import spacy\n",
    "spacy.load('en_core_web_sm')"
   ]
  },
  {
   "cell_type": "markdown",
   "id": "df5bd8c5",
   "metadata": {},
   "source": [
    "# Tokenize sentences and clean"
   ]
  },
  {
   "cell_type": "code",
   "execution_count": null,
   "id": "ddb0148a",
   "metadata": {},
   "outputs": [],
   "source": [
    "def sent_to_words(sentences):\n",
    "    for sent in sentences:\n",
    "        sent = re.sub('\\S*@\\S*\\s?', '', sent)  # remove emails\n",
    "        sent = re.sub('\\s+', ' ', sent)  # remove newline chars\n",
    "        sent = re.sub(\"\\'\", \"\", sent)  # remove single quotes\n",
    "        sent = re.sub(r'[^\\w\\s]', '', sent) # remove punctuations\n",
    "        CLEANR = re.compile('<.*?>|&([a-z0-9]+|#[0-9]{1,6}|#x[0-9a-f]{1,6});')\n",
    "        sent = re.sub(CLEANR, '', sent) # remove html tags\n",
    "        \n",
    "        sent = gensim.utils.simple_preprocess(str(sent), deacc=True) # deacc=True removes punctuations\n",
    "        yield(sent)  \n",
    "\n",
    "# Convert to list\n",
    "data = df.Text.tolist()\n",
    "data_words = list(sent_to_words(data))\n",
    "print(data_words[:1])"
   ]
  },
  {
   "cell_type": "markdown",
   "id": "58d93d8f",
   "metadata": {},
   "source": [
    "# Build bigram and trigram models and lemmatize"
   ]
  },
  {
   "cell_type": "code",
   "execution_count": null,
   "id": "90d02bc7",
   "metadata": {},
   "outputs": [],
   "source": [
    "bigram = gensim.models.Phrases(data_words, min_count=5, threshold=100) # higher threshold fewer phrases.\n",
    "trigram = gensim.models.Phrases(bigram[data_words], threshold=100)  \n",
    "bigram_mod = gensim.models.phrases.Phraser(bigram)\n",
    "trigram_mod = gensim.models.phrases.Phraser(trigram)"
   ]
  },
  {
   "cell_type": "markdown",
   "id": "96d576a6",
   "metadata": {},
   "source": [
    "We can use Pointwise Mutual Information (PMI) Score to detect n-grams and measure how much more likely the words co-occur than if they were independent. The metric is sensitive to rare combination of words, so it is used with an occurrence frequency filter to ensure phrase relevance."
   ]
  },
  {
   "cell_type": "code",
   "execution_count": null,
   "id": "a3d5e174",
   "metadata": {},
   "outputs": [],
   "source": [
    "# Example for detecting bigrams \n",
    "bigram_measures = nltk.collocations.BigramAssocMeasures()\n",
    "finder =nltk.collocations.BigramCollocationFinder.from_documents(data_words)"
   ]
  },
  {
   "cell_type": "code",
   "execution_count": null,
   "id": "0dbb0167",
   "metadata": {},
   "outputs": [],
   "source": [
    "# Filter only those that occur at least 50 times\n",
    "finder.apply_freq_filter(50)\n",
    "bigram_scores = finder.score_ngrams(bigram_measures.pmi)\n",
    "bigram_scores"
   ]
  },
  {
   "cell_type": "code",
   "execution_count": null,
   "id": "c095a30a",
   "metadata": {},
   "outputs": [],
   "source": [
    "trigram_measures = nltk.collocations.TrigramAssocMeasures()\n",
    "finder = nltk.collocations.TrigramCollocationFinder.from_documents(data_words)\n",
    "# Filter only those that occur at least 50 times\n",
    "finder.apply_freq_filter(50)\n",
    "trigram_scores = finder.score_ngrams(trigram_measures.pmi)"
   ]
  },
  {
   "cell_type": "code",
   "execution_count": null,
   "id": "754808bb",
   "metadata": {},
   "outputs": [],
   "source": [
    "trigram_scores"
   ]
  },
  {
   "cell_type": "code",
   "execution_count": null,
   "id": "8be35f66",
   "metadata": {},
   "outputs": [],
   "source": [
    "bigram_pmi = pd.DataFrame(bigram_scores)\n",
    "bigram_pmi.columns = ['bigram', 'pmi']\n",
    "bigram_pmi.sort_values(by='pmi', axis = 0, ascending = False, inplace = True)\n",
    "bigram_pmi"
   ]
  },
  {
   "cell_type": "code",
   "execution_count": null,
   "id": "f17586e3",
   "metadata": {},
   "outputs": [],
   "source": [
    "trigram_pmi = pd.DataFrame(trigram_scores)\n",
    "trigram_pmi.columns = ['trigram', 'pmi']\n",
    "trigram_pmi.sort_values(by='pmi', axis = 0, ascending = False, inplace = True)"
   ]
  },
  {
   "cell_type": "markdown",
   "id": "3bad7fba",
   "metadata": {},
   "source": [
    "Additionally, we filter bigrams or trigrams with noun structures. This helps the LDA model better cluster topics, as nouns are better indicators of a topic being talked about. We use NLTK package to tag part of speech and filter these structures."
   ]
  },
  {
   "cell_type": "code",
   "execution_count": null,
   "id": "669b5d3b",
   "metadata": {},
   "outputs": [],
   "source": [
    "# Filter for bigrams with only noun-type structures\n",
    "def bigram_filter(bigram):\n",
    "    tag = nltk.pos_tag(bigram)\n",
    "    if tag[0][1] not in ['JJ', 'NN'] and tag[1][1] not in ['NN']:\n",
    "        return False\n",
    "    if bigram[0] in stop_words or bigram[1] in stop_words:\n",
    "        return False\n",
    "    if 'n' in bigram or 't' in bigram:\n",
    "        return False\n",
    "    if 'PRON' in bigram:\n",
    "        return False\n",
    "    return True"
   ]
  },
  {
   "cell_type": "code",
   "execution_count": null,
   "id": "bc07675f",
   "metadata": {},
   "outputs": [],
   "source": [
    "filtered_bigram = bigram_pmi[bigram_pmi.apply(lambda bigram: bigram_filter(bigram['bigram']) and bigram.pmi > 5, axis = 1)][:500]"
   ]
  },
  {
   "cell_type": "code",
   "execution_count": null,
   "id": "12bd5fe3",
   "metadata": {},
   "outputs": [],
   "source": [
    "bigrams = [' '.join(x) for x in filtered_bigram.bigram.values if len(x[0]) > 2 or len(x[1]) > 2]"
   ]
  },
  {
   "cell_type": "code",
   "execution_count": null,
   "id": "0a80b1e6",
   "metadata": {},
   "outputs": [],
   "source": [
    "# Filter for trigrams with only noun-type structures\n",
    "def trigram_filter(trigram):\n",
    "    tag = nltk.pos_tag(trigram)\n",
    "    if tag[0][1] not in ['JJ', 'NN'] and tag[1][1] not in ['JJ','NN']:\n",
    "        return False\n",
    "    if trigram[0] in stop_words or trigram[-1] in stop_words or trigram[1] in stop_words:\n",
    "        return False\n",
    "    if 'n' in trigram or 't' in trigram:\n",
    "         return False\n",
    "    if 'PRON' in trigram:\n",
    "        return False\n",
    "    return True "
   ]
  },
  {
   "cell_type": "code",
   "execution_count": null,
   "id": "16b2032d",
   "metadata": {},
   "outputs": [],
   "source": [
    "filtered_trigram = trigram_pmi[trigram_pmi.apply(lambda trigram: trigram_filter(trigram['trigram']) and trigram.pmi > 5, axis = 1)][:500]"
   ]
  },
  {
   "cell_type": "code",
   "execution_count": null,
   "id": "f53f24e1",
   "metadata": {},
   "outputs": [],
   "source": [
    "trigrams = [' '.join(x) for x in filtered_trigram.trigram.values if len(x[0]) > 2 or len(x[1]) > 2 and len(x[2]) > 2]"
   ]
  },
  {
   "cell_type": "code",
   "execution_count": null,
   "id": "80a06f97",
   "metadata": {},
   "outputs": [],
   "source": [
    "trigrams"
   ]
  },
  {
   "cell_type": "code",
   "execution_count": null,
   "id": "03abfacc",
   "metadata": {},
   "outputs": [],
   "source": [
    "# Concatenate n-grams\n",
    "def replace_ngram(x):\n",
    "    for gram in trigrams:\n",
    "        x = x.replace(gram, '_'.join(gram.split()))\n",
    "    for gram in bigrams:\n",
    "        x = x.replace(gram, '_'.join(gram.split()))\n",
    "    return x"
   ]
  },
  {
   "cell_type": "code",
   "execution_count": null,
   "id": "01b34118",
   "metadata": {},
   "outputs": [],
   "source": [
    "df1 = df.copy()"
   ]
  },
  {
   "cell_type": "code",
   "execution_count": null,
   "id": "289168a7",
   "metadata": {},
   "outputs": [],
   "source": [
    "df1.Text = df.Text.map(lambda x: replace_ngram(x))"
   ]
  },
  {
   "cell_type": "code",
   "execution_count": null,
   "id": "206a84df",
   "metadata": {},
   "outputs": [],
   "source": [
    "df1.Text"
   ]
  },
  {
   "cell_type": "markdown",
   "id": "2c6677db",
   "metadata": {},
   "source": [
    "References:\n",
    "https://towardsdatascience.com/6-tips-to-optimize-an-nlp-topic-model-for-interpretability-20742f3047e2"
   ]
  },
  {
   "cell_type": "markdown",
   "id": "5f3627d7",
   "metadata": {},
   "source": [
    "# Remove stopwords"
   ]
  },
  {
   "cell_type": "code",
   "execution_count": null,
   "id": "a1a544d5",
   "metadata": {},
   "outputs": [],
   "source": [
    "texts = [[word for word in document.lower().split() if word not in stop_words] for document in df1.Text]"
   ]
  },
  {
   "cell_type": "code",
   "execution_count": null,
   "id": "e5573ce3",
   "metadata": {},
   "outputs": [],
   "source": [
    "texts"
   ]
  },
  {
   "cell_type": "markdown",
   "id": "8cca19c5",
   "metadata": {},
   "source": [
    "# Remove words that only appear once"
   ]
  },
  {
   "cell_type": "code",
   "execution_count": null,
   "id": "fb442143",
   "metadata": {},
   "outputs": [],
   "source": [
    "all_tokens = sum(texts, [])\n",
    "tokens_once = set(word for word in set(all_tokens) if all_tokens.count(word) == 1)\n",
    "texts = [[word for word in text if word not in tokens_once] for text in texts]"
   ]
  },
  {
   "cell_type": "markdown",
   "id": "4badc25c",
   "metadata": {},
   "source": [
    "# Lemmatization"
   ]
  },
  {
   "cell_type": "code",
   "execution_count": null,
   "id": "2765c66c",
   "metadata": {},
   "outputs": [],
   "source": [
    "allowed_postags=['NOUN', 'ADJ', 'VERB', 'ADV']\n",
    "\"\"\"Lemmatization\"\"\"\n",
    "texts_out = []\n",
    "nlp = spacy.load('en_core_web_lg', disable=['parser', 'ner'])\n",
    "for sent in texts:\n",
    "    doc = nlp(\" \".join(sent)) \n",
    "    texts_out.append([token.lemma_ for token in doc if token.pos_ in allowed_postags])\n",
    "# remove stopwords once more after lemmatization\n",
    "texts_out = [[word for word in simple_preprocess(str(doc)) if word not in stop_words] for doc in texts_out]    "
   ]
  },
  {
   "cell_type": "code",
   "execution_count": null,
   "id": "54eb6fa7",
   "metadata": {},
   "outputs": [],
   "source": [
    "\"\"\"To conduct topic modelling for each doc\"\"\"\n",
    "id2word = corpora.Dictionary(texts) # convert tokenized lists into dictionary\n",
    "corpus = []\n",
    "for text in texts:\n",
    "    #create document term matrix\n",
    "    new = id2word.doc2bow(text) # start with Bag of Words representation of the docs\n",
    "    # document term matrix tracks the frequency of each term for each doc\n",
    "    corpus.append(new)"
   ]
  },
  {
   "cell_type": "code",
   "execution_count": null,
   "id": "1fb71409",
   "metadata": {},
   "outputs": [],
   "source": [
    "lda_model = gensim.models.ldamodel.LdaModel(corpus=corpus, \n",
    "                                           id2word=id2word,\n",
    "                                           num_topics=10,\n",
    "                                           random_state=100,\n",
    "                                           update_every=1,\n",
    "                                           chunksize=100,\n",
    "                                           passes=10, \n",
    "                                           minimum_probability=0,\n",
    "                                           alpha=\"auto\") # update the model every 1 iteration and pass over the data 10 times"
   ]
  },
  {
   "cell_type": "markdown",
   "id": "ffb349a5",
   "metadata": {},
   "source": [
    "# Print the topics"
   ]
  },
  {
   "cell_type": "code",
   "execution_count": null,
   "id": "cf1f9db8",
   "metadata": {},
   "outputs": [],
   "source": [
    "for top in lda_model.print_topics():\n",
    "    print(top)"
   ]
  },
  {
   "cell_type": "markdown",
   "id": "98050261",
   "metadata": {},
   "source": [
    "# Find threshold"
   ]
  },
  {
   "cell_type": "markdown",
   "id": "45a544a5",
   "metadata": {},
   "source": [
    "# Aim: to see which document belongs to which topic"
   ]
  },
  {
   "cell_type": "code",
   "execution_count": null,
   "id": "cd62089d",
   "metadata": {},
   "outputs": [],
   "source": [
    "# assign topics to the documents in corpus\n",
    "lda_corpus = lda_model[corpus]\n",
    "# lda_corpus is a list of lists where number of rows = number of docs and number of cols = number of topics\n",
    "# elements of lda_corpus are of the form [(0,p0), (1,p1), (2,p2)...] where the 1st number is the topic index and the 2nd number is the \n",
    "# corresponding prob of the document belonging to that topic"
   ]
  },
  {
   "cell_type": "code",
   "execution_count": null,
   "id": "29745a50",
   "metadata": {},
   "outputs": [],
   "source": [
    "# find threshold by setting threshold to be 1/(number of clusters)\n",
    "# to prove threshold is sane, we average the sum of all probabilities\n",
    "scores = list(chain(*[[score for topic_id, score in topic]\n",
    "                     for topic in [doc for doc in lda_corpus]]))\n",
    "\n",
    "threshold = sum(scores)/len(scores)\n",
    "print(threshold)"
   ]
  },
  {
   "cell_type": "code",
   "execution_count": null,
   "id": "42bc726b",
   "metadata": {
    "scrolled": true
   },
   "outputs": [],
   "source": [
    "# take a look at the clusters\n",
    "cluster1 = [j for i,j in zip(lda_corpus, documents) if i[0][1] > threshold]\n",
    "cluster2 = [j for i,j in zip(lda_corpus, documents) if i[1][1] > threshold]\n",
    "cluster3 = [j for i,j in zip(lda_corpus, documents) if i[2][1] > threshold]\n",
    "cluster1"
   ]
  },
  {
   "cell_type": "markdown",
   "id": "ab8b6e7a",
   "metadata": {},
   "source": [
    "# Find top words per topic"
   ]
  },
  {
   "cell_type": "code",
   "execution_count": null,
   "id": "eeaba491",
   "metadata": {},
   "outputs": [],
   "source": [
    "# to harmonize the data better and make it less computationally intensive\n",
    "def lemmatization(texts, allowed_postags = ['NOUN', 'ADJ', 'VERB', 'ADV']):\n",
    "    nlp = spacy.load('en_core_web_sm')\n",
    "    texts_out = []\n",
    "    for text in texts:\n",
    "        doc = nlp(text)\n",
    "        new_text = []\n",
    "        for token in doc:\n",
    "            if token.pos_ in allowed_postags:\n",
    "                new_text.append(token.lemma_)\n",
    "        final = \" \".join(new_text)\n",
    "        texts_out.append(final)\n",
    "    return (texts_out)\n",
    "\n",
    "lemmatized_texts = lemmatization(df1['Text'])"
   ]
  },
  {
   "cell_type": "code",
   "execution_count": null,
   "id": "b443fcd6",
   "metadata": {},
   "outputs": [],
   "source": [
    "lemmatization(df1['Text'].tolist())"
   ]
  },
  {
   "cell_type": "code",
   "execution_count": null,
   "id": "8a461da2",
   "metadata": {},
   "outputs": [],
   "source": [
    "def gen_words(texts):\n",
    "    final = []\n",
    "    for text in texts:\n",
    "        new = gensim.utils.simple_preprocess(text) # convert a document into a list of tokens\n",
    "        final.append(new)\n",
    "    return (final)\n",
    "data_words = gen_words(lemmatized_texts)\n",
    "data_words"
   ]
  },
  {
   "cell_type": "code",
   "execution_count": null,
   "id": "1a0ad395",
   "metadata": {},
   "outputs": [],
   "source": [
    "top_words_per_topic = []\n",
    "for t in range(lda_model.num_topics):\n",
    "    top_words_per_topic.extend([(t, ) + x for x in lda_model.show_topic(t, topn=20)])\n",
    "top_words_per_topic"
   ]
  },
  {
   "cell_type": "markdown",
   "id": "2bc90c48",
   "metadata": {},
   "source": [
    "# Visualizing the data"
   ]
  },
  {
   "cell_type": "code",
   "execution_count": null,
   "id": "abcf262b",
   "metadata": {},
   "outputs": [],
   "source": [
    "pyLDAvis.enable_notebook()\n",
    "vis=pyLDAvis.gensim_models.prepare(lda_model, corpus, id2word, mds=\"mmds\", R=30) #top 30 words \n",
    "#metric multidimensional scaling\n",
    "vis #each circle represents a different topic/cluster "
   ]
  },
  {
   "cell_type": "markdown",
   "id": "24ef0809",
   "metadata": {},
   "source": [
    "# Remove words that do not add value"
   ]
  },
  {
   "cell_type": "code",
   "execution_count": null,
   "id": "6462b298",
   "metadata": {},
   "outputs": [],
   "source": [
    "# create bigrams (2 words freq occurring together) and trigrams (3 words) and remove frequent words \n",
    "\n",
    "bigram_phrases = gensim.models.Phrases(data_words, min_count=5, threshold=50) # min number of times for a word to occur in order to be considered a bigram\n",
    "# min number of phrases that are found; higher number means fewer number of phrases\n",
    "trigram_phrases= gensim.models.Phrases(bigram_phrases[data_words], threshold=50)\n",
    "\n",
    "bigram= gensim.models.phrases.Phraser(bigram_phrases)\n",
    "trigram= gensim.models.phrases.Phraser(trigram_phrases)\n",
    "\n",
    "def make_bigrams(texts):\n",
    "    return(bigram[doc] for doc in texts)\n",
    "\n",
    "def make_trigrams(texts):\n",
    "    return(trigram[bigram[doc]] for doc in texts)\n",
    "\n",
    "data_bigrams = make_bigrams(data_words)\n",
    "data_bigrams_trigrams = make_trigrams(data_bigrams)\n",
    "\n",
    "print(data_bigrams_trigrams)"
   ]
  },
  {
   "cell_type": "code",
   "execution_count": null,
   "id": "c914d90b",
   "metadata": {},
   "outputs": [],
   "source": [
    "# TF-IDF removal\n",
    "from gensim.models import TfidfModel\n",
    "id2word = corpora.Dictionary(data_bigrams_trigrams)\n",
    "\n",
    "texts = data_bigrams_trigrams\n",
    "\n",
    "corpus = [id2word.doc2bow(text) for text in texts] # contain numerical bags of words that contain frequency\n",
    "\n",
    "tfidf = TfidfModel(corpus, id2word=id2word) # aim: if a word occurs so frequently it does not lend much value to the clustering algo\n",
    "\n",
    "low_value=0.03\n",
    "words=[]\n",
    "words_missing_in_tfidf=[]\n",
    "\n",
    "for i in range(len(corpus)):\n",
    "    bow=corpus[i]\n",
    "    low_value_words=[]\n",
    "    tfidf_ids = [id for id, value in tfidf[bow]]\n",
    "    bow_ids = [id for id, value in bow]\n",
    "    low_value_words = [id for id, value in tfidf[bow] if value < low_value]\n",
    "    drops = low_value_words+words_missing_in_tfidf\n",
    "    for item in drops:\n",
    "        words.append(id2word[item])\n",
    "    words_missing_in_tfidf = [id for id in bow_ids if id not in tfidf_ids] #words with tfidf score 0 will be missing\n",
    "    \n",
    "    new_bow = [b for b in bow if b[0] not in low_value_words and b[0] not in words_missing_in_tfidf]\n",
    "    corpus[i] = new_bow"
   ]
  },
  {
   "cell_type": "code",
   "execution_count": null,
   "id": "2e75d635",
   "metadata": {},
   "outputs": [],
   "source": [
    "lda_model1 = gensim.models.ldamodel.LdaModel(corpus=corpus, \n",
    "                                           id2word=id2word,\n",
    "                                           num_topics=10,\n",
    "                                           random_state=100,\n",
    "                                           update_every=1,\n",
    "                                           chunksize=100,\n",
    "                                           passes=10, \n",
    "                                           alpha=\"auto\") # update the model every 1 iteration and pass over the data 10 times"
   ]
  },
  {
   "cell_type": "code",
   "execution_count": null,
   "id": "4cc952b9",
   "metadata": {},
   "outputs": [],
   "source": [
    "# coherence number\n",
    "from gensim.models.coherencemodel import CoherenceModel\n",
    "coherence_model_lda = CoherenceModel(model=lda_model1, text=datawords)"
   ]
  },
  {
   "cell_type": "code",
   "execution_count": null,
   "id": "c7c409c2",
   "metadata": {},
   "outputs": [],
   "source": [
    "pyLDAvis.enable_notebook()\n",
    "vis=pyLDAvis.gensim_models.prepare(lda_model1, corpus, id2word, mds=\"mmds\", R=30) #top 30 words \n",
    "#metric multidimensional scaling\n",
    "vis #each circle represents a different topic/cluster "
   ]
  },
  {
   "cell_type": "markdown",
   "id": "557c1acd",
   "metadata": {},
   "source": [
    "References:\n",
    "https://stackoverflow.com/questions/20984841/topic-distribution-how-do-we-see-which-document-belong-to-which-topic-after-doi"
   ]
  },
  {
   "cell_type": "code",
   "execution_count": null,
   "id": "4e36764f",
   "metadata": {},
   "outputs": [],
   "source": []
  },
  {
   "cell_type": "code",
   "execution_count": null,
   "id": "9aa5a39f",
   "metadata": {},
   "outputs": [],
   "source": []
  },
  {
   "cell_type": "code",
   "execution_count": null,
   "id": "09220359",
   "metadata": {},
   "outputs": [],
   "source": []
  },
  {
   "cell_type": "code",
   "execution_count": null,
   "id": "877b888f",
   "metadata": {},
   "outputs": [],
   "source": []
  }
 ],
 "metadata": {
  "kernelspec": {
   "display_name": "Python 3 (ipykernel)",
   "language": "python",
   "name": "python3"
  },
  "language_info": {
   "codemirror_mode": {
    "name": "ipython",
    "version": 3
   },
   "file_extension": ".py",
   "mimetype": "text/x-python",
   "name": "python",
   "nbconvert_exporter": "python",
   "pygments_lexer": "ipython3",
   "version": "3.9.7"
  }
 },
 "nbformat": 4,
 "nbformat_minor": 5
}
